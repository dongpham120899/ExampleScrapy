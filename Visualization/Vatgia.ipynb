{
 "cells": [
  {
   "cell_type": "markdown",
   "metadata": {},
   "source": [
    "# Visualization Vatgia"
   ]
  },
  {
   "cell_type": "markdown",
   "metadata": {},
   "source": [
    "## Trực quan hoá dữ liệu lấy từ trang web vatgia.com\n",
    "### Dữ liệu bao gồm các trường:\n",
    "- Loại sản phẩm\n",
    "- Giá của sản phẩm\n",
    "- Những lời bình luận\n",
    "- Tiêu đề\n"
   ]
  },
  {
   "cell_type": "code",
   "execution_count": 76,
   "metadata": {},
   "outputs": [],
   "source": [
    "from matplotlib import pyplot as plt"
   ]
  },
  {
   "cell_type": "code",
   "execution_count": 63,
   "metadata": {},
   "outputs": [],
   "source": [
    "import pandas as pd\n",
    "columns = ['title','price','category','comments']\n",
    "\n",
    "vatgia = pd.read_json('vatgia.json',columns)"
   ]
  },
  {
   "cell_type": "markdown",
   "metadata": {},
   "source": [
    "### Đọc dữ liệu từ file \"vatgia.json\"\n",
    "### Dữ liệu gồm 3666 sản phẩm"
   ]
  },
  {
   "cell_type": "code",
   "execution_count": 64,
   "metadata": {},
   "outputs": [
    {
     "data": {
      "text/html": [
       "<div>\n",
       "<style scoped>\n",
       "    .dataframe tbody tr th:only-of-type {\n",
       "        vertical-align: middle;\n",
       "    }\n",
       "\n",
       "    .dataframe tbody tr th {\n",
       "        vertical-align: top;\n",
       "    }\n",
       "\n",
       "    .dataframe thead th {\n",
       "        text-align: right;\n",
       "    }\n",
       "</style>\n",
       "<table border=\"1\" class=\"dataframe\">\n",
       "  <thead>\n",
       "    <tr style=\"text-align: right;\">\n",
       "      <th></th>\n",
       "      <th>category</th>\n",
       "      <th>price</th>\n",
       "      <th>comments</th>\n",
       "      <th>title</th>\n",
       "    </tr>\n",
       "  </thead>\n",
       "  <tbody>\n",
       "    <tr>\n",
       "      <td>0</td>\n",
       "      <td>Ôtô, xe máy</td>\n",
       "      <td>3,3 triệu</td>\n",
       "      <td>None</td>\n",
       "      <td>Beeshop.vn Giao Xe Đạp Gấp Oyama Sg-04, Tận Nh...</td>\n",
       "    </tr>\n",
       "    <tr>\n",
       "      <td>1</td>\n",
       "      <td>Nội, ngoại thất</td>\n",
       "      <td>Liên hệ</td>\n",
       "      <td>None</td>\n",
       "      <td>Đèn Diệt Côn Trùng We-150-2S (Ds-D152I)</td>\n",
       "    </tr>\n",
       "    <tr>\n",
       "      <td>2</td>\n",
       "      <td>Ôtô, xe máy</td>\n",
       "      <td>1,5 tỷ</td>\n",
       "      <td>None</td>\n",
       "      <td>Thông Số Xe Đầu Kéo Mỹ Freightliner 2 Giường Đ...</td>\n",
       "    </tr>\n",
       "    <tr>\n",
       "      <td>3</td>\n",
       "      <td>Ôtô, xe máy</td>\n",
       "      <td>783 triệu</td>\n",
       "      <td>None</td>\n",
       "      <td>Hyundai Tucson Facelift 2020 Mới - Cam Kết Giá...</td>\n",
       "    </tr>\n",
       "    <tr>\n",
       "      <td>4</td>\n",
       "      <td>Nội, ngoại thất</td>\n",
       "      <td>1.000</td>\n",
       "      <td>None</td>\n",
       "      <td>Đèn Diệt Côn Trùng Delta Gn-30 Gia Re</td>\n",
       "    </tr>\n",
       "    <tr>\n",
       "      <td>...</td>\n",
       "      <td>...</td>\n",
       "      <td>...</td>\n",
       "      <td>...</td>\n",
       "      <td>...</td>\n",
       "    </tr>\n",
       "    <tr>\n",
       "      <td>3661</td>\n",
       "      <td>Ôtô, xe máy</td>\n",
       "      <td>40.000</td>\n",
       "      <td>None</td>\n",
       "      <td>Cho Thuê Xe Đạp Và Xe Đạp Điện Giá Rẻ</td>\n",
       "    </tr>\n",
       "    <tr>\n",
       "      <td>3662</td>\n",
       "      <td>Ôtô, xe máy</td>\n",
       "      <td>39.000</td>\n",
       "      <td>None</td>\n",
       "      <td>Chuyên Cho Thuê Xe Đạp,xe Đạp Điện Giá Rẻ Nhất...</td>\n",
       "    </tr>\n",
       "    <tr>\n",
       "      <td>3663</td>\n",
       "      <td>Ôtô, xe máy</td>\n",
       "      <td>Liên hệ</td>\n",
       "      <td>None</td>\n",
       "      <td>Cho Thuê Xe Đạp,xe Đạp Đôi,xe Đạp Điện 40,000Đ...</td>\n",
       "    </tr>\n",
       "    <tr>\n",
       "      <td>3664</td>\n",
       "      <td>Ôtô, xe máy</td>\n",
       "      <td>40.000</td>\n",
       "      <td>None</td>\n",
       "      <td>Cho Thuê Xe Đạp,xe Đạp Đôi,xe Đạp Điện Giá Rẻ ...</td>\n",
       "    </tr>\n",
       "    <tr>\n",
       "      <td>3665</td>\n",
       "      <td>Ôtô, xe máy</td>\n",
       "      <td>40.000</td>\n",
       "      <td>None</td>\n",
       "      <td>Cho Thuê Xe Đạp,xe Đạp Điện Giá Rẻ</td>\n",
       "    </tr>\n",
       "  </tbody>\n",
       "</table>\n",
       "<p>3666 rows × 4 columns</p>\n",
       "</div>"
      ],
      "text/plain": [
       "             category      price comments  \\\n",
       "0         Ôtô, xe máy  3,3 triệu     None   \n",
       "1     Nội, ngoại thất    Liên hệ     None   \n",
       "2         Ôtô, xe máy     1,5 tỷ     None   \n",
       "3         Ôtô, xe máy  783 triệu     None   \n",
       "4     Nội, ngoại thất      1.000     None   \n",
       "...               ...        ...      ...   \n",
       "3661      Ôtô, xe máy     40.000     None   \n",
       "3662      Ôtô, xe máy     39.000     None   \n",
       "3663      Ôtô, xe máy    Liên hệ     None   \n",
       "3664      Ôtô, xe máy     40.000     None   \n",
       "3665      Ôtô, xe máy     40.000     None   \n",
       "\n",
       "                                                  title  \n",
       "0     Beeshop.vn Giao Xe Đạp Gấp Oyama Sg-04, Tận Nh...  \n",
       "1               Đèn Diệt Côn Trùng We-150-2S (Ds-D152I)  \n",
       "2     Thông Số Xe Đầu Kéo Mỹ Freightliner 2 Giường Đ...  \n",
       "3     Hyundai Tucson Facelift 2020 Mới - Cam Kết Giá...  \n",
       "4                 Đèn Diệt Côn Trùng Delta Gn-30 Gia Re  \n",
       "...                                                 ...  \n",
       "3661        Cho Thuê Xe Đạp Và Xe Đạp Điện Giá Rẻ  \n",
       "3662  Chuyên Cho Thuê Xe Đạp,xe Đạp Điện Giá Rẻ Nhất...  \n",
       "3663  Cho Thuê Xe Đạp,xe Đạp Đôi,xe Đạp Điện 40,000Đ...  \n",
       "3664  Cho Thuê Xe Đạp,xe Đạp Đôi,xe Đạp Điện Giá Rẻ ...  \n",
       "3665            Cho Thuê Xe Đạp,xe Đạp Điện Giá Rẻ  \n",
       "\n",
       "[3666 rows x 4 columns]"
      ]
     },
     "execution_count": 64,
     "metadata": {},
     "output_type": "execute_result"
    }
   ],
   "source": [
    "vatgia"
   ]
  },
  {
   "cell_type": "code",
   "execution_count": 67,
   "metadata": {},
   "outputs": [
    {
     "data": {
      "text/plain": [
       "<pandas.core.groupby.generic.DataFrameGroupBy object at 0x7fd20b0fc0d0>"
      ]
     },
     "execution_count": 67,
     "metadata": {},
     "output_type": "execute_result"
    }
   ],
   "source": [
    "category = vatgia.groupby('category')"
   ]
  },
  {
   "cell_type": "code",
   "execution_count": 74,
   "metadata": {},
   "outputs": [
    {
     "data": {
      "text/html": [
       "<div>\n",
       "<style scoped>\n",
       "    .dataframe tbody tr th:only-of-type {\n",
       "        vertical-align: middle;\n",
       "    }\n",
       "\n",
       "    .dataframe tbody tr th {\n",
       "        vertical-align: top;\n",
       "    }\n",
       "\n",
       "    .dataframe thead th {\n",
       "        text-align: right;\n",
       "    }\n",
       "</style>\n",
       "<table border=\"1\" class=\"dataframe\">\n",
       "  <thead>\n",
       "    <tr style=\"text-align: right;\">\n",
       "      <th></th>\n",
       "      <th>category</th>\n",
       "      <th>count</th>\n",
       "    </tr>\n",
       "  </thead>\n",
       "  <tbody>\n",
       "    <tr>\n",
       "      <td>0</td>\n",
       "      <td>Bất động sản</td>\n",
       "      <td>100</td>\n",
       "    </tr>\n",
       "    <tr>\n",
       "      <td>1</td>\n",
       "      <td>Công nghiệp, xây dựng</td>\n",
       "      <td>220</td>\n",
       "    </tr>\n",
       "    <tr>\n",
       "      <td>2</td>\n",
       "      <td>Du lịch</td>\n",
       "      <td>160</td>\n",
       "    </tr>\n",
       "    <tr>\n",
       "      <td>3</td>\n",
       "      <td>Dịch vụ, giải trí</td>\n",
       "      <td>491</td>\n",
       "    </tr>\n",
       "    <tr>\n",
       "      <td>4</td>\n",
       "      <td>Giáo dục, đào tạo</td>\n",
       "      <td>160</td>\n",
       "    </tr>\n",
       "    <tr>\n",
       "      <td>5</td>\n",
       "      <td>Hoa, quà tặng, mỹ nghệ</td>\n",
       "      <td>127</td>\n",
       "    </tr>\n",
       "    <tr>\n",
       "      <td>6</td>\n",
       "      <td>Hàng hiệu</td>\n",
       "      <td>171</td>\n",
       "    </tr>\n",
       "    <tr>\n",
       "      <td>7</td>\n",
       "      <td>Mua sắm</td>\n",
       "      <td>140</td>\n",
       "    </tr>\n",
       "    <tr>\n",
       "      <td>8</td>\n",
       "      <td>Máy tính, máy văn phòng</td>\n",
       "      <td>140</td>\n",
       "    </tr>\n",
       "    <tr>\n",
       "      <td>9</td>\n",
       "      <td>Mẹ &amp; Bé</td>\n",
       "      <td>200</td>\n",
       "    </tr>\n",
       "    <tr>\n",
       "      <td>10</td>\n",
       "      <td>Mỹ phẩm</td>\n",
       "      <td>220</td>\n",
       "    </tr>\n",
       "    <tr>\n",
       "      <td>11</td>\n",
       "      <td>Nội, ngoại thất</td>\n",
       "      <td>280</td>\n",
       "    </tr>\n",
       "    <tr>\n",
       "      <td>12</td>\n",
       "      <td>Thời trang</td>\n",
       "      <td>280</td>\n",
       "    </tr>\n",
       "    <tr>\n",
       "      <td>13</td>\n",
       "      <td>Việc làm, tuyển dụng</td>\n",
       "      <td>100</td>\n",
       "    </tr>\n",
       "    <tr>\n",
       "      <td>14</td>\n",
       "      <td>Âm thanh, hình ảnh</td>\n",
       "      <td>140</td>\n",
       "    </tr>\n",
       "    <tr>\n",
       "      <td>15</td>\n",
       "      <td>Ôtô, xe máy</td>\n",
       "      <td>637</td>\n",
       "    </tr>\n",
       "    <tr>\n",
       "      <td>16</td>\n",
       "      <td>Đồ gia dụng</td>\n",
       "      <td>100</td>\n",
       "    </tr>\n",
       "  </tbody>\n",
       "</table>\n",
       "</div>"
      ],
      "text/plain": [
       "                   category  count\n",
       "0              Bất động sản    100\n",
       "1     Công nghiệp, xây dựng    220\n",
       "2                   Du lịch    160\n",
       "3         Dịch vụ, giải trí    491\n",
       "4         Giáo dục, đào tạo    160\n",
       "5    Hoa, quà tặng, mỹ nghệ    127\n",
       "6                 Hàng hiệu    171\n",
       "7                   Mua sắm    140\n",
       "8   Máy tính, máy văn phòng    140\n",
       "9                   Mẹ & Bé    200\n",
       "10                  Mỹ phẩm    220\n",
       "11          Nội, ngoại thất    280\n",
       "12               Thời trang    280\n",
       "13     Việc làm, tuyển dụng    100\n",
       "14       Âm thanh, hình ảnh    140\n",
       "15              Ôtô, xe máy    637\n",
       "16              Đồ gia dụng    100"
      ]
     },
     "execution_count": 74,
     "metadata": {},
     "output_type": "execute_result"
    }
   ],
   "source": [
    "categoryCount = category['category'].count()\n",
    "categoryCount.reset_index(name='count')"
   ]
  },
  {
   "cell_type": "markdown",
   "metadata": {},
   "source": [
    "###### Bảng thể hiện số lượng sản phầm theo loại sản phẩm (17 loại)"
   ]
  },
  {
   "cell_type": "code",
   "execution_count": 80,
   "metadata": {},
   "outputs": [
    {
     "data": {
      "text/plain": [
       "Text(0, 0.5, 'Count')"
      ]
     },
     "execution_count": 80,
     "metadata": {},
     "output_type": "execute_result"
    },
    {
     "data": {
      "image/png": "[encoded data removed]",
      "text/plain": [
       "<Figure size 432x288 with 1 Axes>"
      ]
     },
     "metadata": {
      "needs_background": "light"
     },
     "output_type": "display_data"
    }
   ],
   "source": [
    "fig, ax = plt.subplots()\n",
    "\n",
    "data = vatgia['category'].value_counts().sort_index().plot.bar()\n",
    "x = range(17)\n",
    "y = range(17)\n",
    "\n",
    "ax.bar(x, y)\n",
    "ax.set_title('Vatgia')\n",
    "ax.set_xlabel('Category')\n",
    "ax.set_ylabel('Count')"
   ]
  },
  {
   "cell_type": "markdown",
   "metadata": {},
   "source": [
    "##### Biểu đồ thể hiện số lượng sản phẩm theo loại sản phẩm, với loại sản phẩm biểu diễn theo chiều ngang còn số lượng thể hiện theo chiều dọc"
   ]
  },
  {
   "cell_type": "markdown",
   "metadata": {},
   "source": [
    "## Nhận xét\n",
    "\n",
    "### Dữ liệu\n",
    "- Dữ liệu được crawl bằng Scrapy từ trang web thương mại điện tử vatgia.com.\n",
    "- Trường 'comment' có phần lớn dữ liệu None, vì các sản phẩm không có người bình luận.\n",
    "- Thông tin về sản phẩm được người dùng đăng lên, nên một số thông tin (như tiêu đề, giá) không có format chung.\n",
    "\n",
    "### Biểu đồ\n",
    "- Từ biểu đồ ta thấy Ô tô, xe máy chiếm số lượng sản phẩm nhiều nhất.\n",
    "- Đứng thứ hai là thông tin về các sản phẩm dịch vụ giải trí.\n",
    "- Các loại sản phẩm còn lại có số lượng không chênh lệch nhau quá lớn."
   ]
  }
 ],
 "metadata": {
  "kernelspec": {
   "display_name": "Python 3",
   "language": "python",
   "name": "python3"
  },
  "language_info": {
   "codemirror_mode": {
    "name": "ipython",
    "version": 3
   },
   "file_extension": ".py",
   "mimetype": "text/x-python",
   "name": "python",
   "nbconvert_exporter": "python",
   "pygments_lexer": "ipython3",
   "version": "3.7.4"
  }
 },
 "nbformat": 4,
 "nbformat_minor": 2
}
